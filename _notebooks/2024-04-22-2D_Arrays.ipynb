{
 "cells": [
  {
   "cell_type": "markdown",
   "metadata": {},
   "source": [
    "---\n",
    "title: 2D Arrays Lesson\n",
    "description: Lesson for workshop 4\n",
    "toc: true\n",
    "layout: post\n",
    "---"
   ]
  },
  {
   "cell_type": "markdown",
   "metadata": {},
   "source": [
    "## Defining 2D Arrays\n",
    "\n",
    "A 2D array is a way of storing data similar to a table with rows and columns, created by storing multiple arrays inside of a parent array. Just like a spreadsheet, where each cell can be identified by its row and column number, elements in a 2D array can be accessed using their respective row and column indices. This organization allows for efficient storage and retrieval of data in a structured format, making it particularly useful for tasks involving tabular data or grids.\n",
    "\n",
    "For example, take a 2D array initialized like this (more on how to initialize later):\n",
    "\n",
    "```java\n",
    "int[][] arr2D = {\n",
    "    {3, 2, 7},\n",
    "    {2, 6, 8},\n",
    "    {5, 1, 9},\n",
    "}\n",
    "```\n",
    "\n",
    "Now compare this code segment to this visual:\n",
    "\n",
    "![image](https://media.geeksforgeeks.org/wp-content/uploads/20220617153858/MultidimensionalArray.jpg)\n",
    "\n",
    "> image sourced from geeksforgeeks\n",
    "\n",
    "Here you can see how the \"table\" (2D array) is being constructed of multiple 1-dimensional arrays."
   ]
  },
  {
   "cell_type": "markdown",
   "metadata": {},
   "source": [
    "## How to initialize a 2D array in Java\n",
    "\n",
    "In Java, you can initialize a 2D array using various methods, depending on your requirements and preferences. Here are some common approaches:\n",
    "\n",
    "### Using Array Initializer\n",
    "\n",
    "You can directly initialize a 2D array using an array initializer. This method is suitable when you know the values of the array elements at compile time. An important thing to note is that you can actually create 2D arrays with 1D arrays of varying lengths, adding more complexity to the 2D array that can be useful in some scenarios.\n",
    "\n",
    "```java\n",
    "int[][] array2D = {\n",
    "    {1, 2, 3},\n",
    "    {4, 5, 6},\n",
    "    {7, 8, 9}\n",
    "};\n",
    "```\n",
    "\n",
    "### Initializing with default values\n",
    "\n",
    "You can create a new 2D array with a set number of rows and columns with preset values:\n",
    "- `null` for reference types (i.e. String, char, boolean)\n",
    "- `0` for numeric types (i.e. int, double, float)\n",
    "\n",
    "```java\n",
    "int rows = 2;\n",
    "int columns = 2;\n",
    "int[][] array2D = new int[rows][columns];\n",
    "```\n"
   ]
  },
  {
   "cell_type": "markdown",
   "metadata": {},
   "source": [
    "## Indexing through a 2D array\n",
    "\n",
    "In this image, you can see the indices assigned to each row and column:\n",
    "\n",
    "![image](https://blogger.googleusercontent.com/img/b/R29vZ2xl/AVvXsEhgDMQLpv7QBWvE9DG0a8iFtFY0hyMnoFoDGUsfGD0U87v1Fip_w-dlBk5qL3IzI8vkOLOW7ryAQPZYIRLZxJ3n1FkZvDMswzwx_UNHnJbQPmQfzzzGSusHuw4R1iRik5zjVyxJ4B_Eq99T/w594-h509/how+to+loop+over+2D+array+in+Java.jpg)\n",
    "\n",
    "> image sourced from javarevisited\n",
    "\n",
    "Using these indices, you can get data from the 2D array by indexing twice in this format: `arr[row][column]`\n",
    "\n",
    "For example, to get `4` in the image above, you would do `arr[1][2]`, because it is in the row at index 1 and the column at index 2 (assuming the 2d array is called `arr`).\n",
    "\n",
    "Feel free to mess with the indices in the code block below to get different numbers"
   ]
  },
  {
   "cell_type": "code",
   "execution_count": 1,
   "metadata": {
    "vscode": {
     "languageId": "java"
    }
   },
   "outputs": [
    {
     "data": {
      "text/plain": [
       "4"
      ]
     },
     "execution_count": 1,
     "metadata": {},
     "output_type": "execute_result"
    }
   ],
   "source": [
    "// Initializing 2D array\n",
    "int[][] arr = {\n",
    "    {1, 1, 1},\n",
    "    {1, 2, 4},\n",
    "    {1, 3, 9},\n",
    "};\n",
    "\n",
    "// indexing to get data in format arr[row][column]\n",
    "arr[1][2];"
   ]
  },
  {
   "cell_type": "markdown",
   "metadata": {},
   "source": [
    "However, the bulk of programming with 2D arrays involves loops, such as returning an array of the sums of each row in a 2D array:"
   ]
  },
  {
   "cell_type": "code",
   "execution_count": 8,
   "metadata": {
    "vscode": {
     "languageId": "java"
    }
   },
   "outputs": [
    {
     "name": "stdout",
     "output_type": "stream",
     "text": [
      "8, 3, 12\n"
     ]
    }
   ],
   "source": [
    "public class Example {\n",
    "    // Method for calculating the sum of a 2D array using nested for loops\n",
    "    public static int[] rowSums(int[][] arr2D) {\n",
    "        // Get number of rows\n",
    "        int rows = arr2D.length;\n",
    "\n",
    "        // New array to return sums\n",
    "        int[] sums = new int[rows];\n",
    "\n",
    "        // Loop through each row\n",
    "        for (int i = 0; i < rows; i ++) {\n",
    "            // Get number of columns for the selected row (useful for uneven amounts)\n",
    "            int cols = arr2D[i].length;\n",
    "\n",
    "            // Define sum for the row;\n",
    "            int sum = 0;\n",
    "\n",
    "            // Iterate through each column within the row, effectively iterating through all points\n",
    "            for (int j = 0; j < cols; j ++) {\n",
    "                sum += arr2D[i][j];\n",
    "            }\n",
    "\n",
    "            // Add sum to array\n",
    "            sums[i] = sum;\n",
    "        }\n",
    "\n",
    "        return sums;\n",
    "    }\n",
    "\n",
    "    // method for printing arrays\n",
    "    public static void printArray(int[] arr) {\n",
    "        for (int i = 0; i < arr.length; i++) {\n",
    "            System.out.print(arr[i]);\n",
    "            if (i < arr.length - 1) {\n",
    "                System.out.print(\", \");\n",
    "            }\n",
    "        }\n",
    "        System.out.println();\n",
    "    }\n",
    "\n",
    "    public static void main(String[] args) {\n",
    "        // tester 2d array\n",
    "        int[][] arr2D = {\n",
    "            {3, 4, 1},\n",
    "            {1, 1, 1},\n",
    "            {2, 6, 4},\n",
    "        };\n",
    "\n",
    "        // calculate sums of each row\n",
    "        int[] sums = rowSums(arr2D);\n",
    "\n",
    "        // print results\n",
    "        printArray(sums);\n",
    "    }\n",
    "}\n",
    "\n",
    "Example.main(null);"
   ]
  }
 ],
 "metadata": {
  "kernelspec": {
   "display_name": "Java",
   "language": "java",
   "name": "java"
  },
  "language_info": {
   "codemirror_mode": "java",
   "file_extension": ".jshell",
   "mimetype": "text/x-java-source",
   "name": "Java",
   "pygments_lexer": "java",
   "version": "20.0.2+9-78"
  }
 },
 "nbformat": 4,
 "nbformat_minor": 2
}
