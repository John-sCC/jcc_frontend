{
 "cells": [
  {
   "attachments": {},
   "cell_type": "markdown",
   "metadata": {},
   "source": [
    "---\n",
    "title: Initializing and Adding to ArrayLists\n",
    "description: Info from AP Classroom Unit 7\n",
    "toc: true\n",
    "layout: post\n",
    "---"
   ]
  },
  {
   "attachments": {},
   "cell_type": "markdown",
   "metadata": {},
   "source": [
    "<h2> Some Basic Info on ArrayLists </h2>\n",
    "\n",
    "ArrayLists are the  same concept as an Array [a collection of data], but still have some key differences\n",
    "\n",
    "| Arrays | ArrayLists |\n",
    "| ------ | ---------- |\n",
    "| **FIXED LENGTH** | **RESIZABLE LENGTH** |\n",
    "| Part of fundamental Java language | Framework package - part of the Collections framework under Lists|\n",
    "| An object (no methods) | A class (w/ methods) |\n",
    "| Not flexible | More flexible |\n",
    "| Stores primitive data | Not designed to store primitive data |\n",
    "| - | Slower than Arrays |\n",
    "\n",
    "<br> \n",
    "\n",
    "The ArrayList class is implemented using Arrays\n",
    "\n",
    "<br>\n",
    "<br>\n",
    "\n",
    "<h2> How do we Initialize ArrayLists? </h2>\n",
    "\n",
    "First you must **import** ArrayLists since they are not a part of the Java language "
   ]
  },
  {
   "cell_type": "code",
   "execution_count": null,
   "metadata": {
    "vscode": {
     "languageId": "java"
    }
   },
   "outputs": [],
   "source": [
    "import java.util.ArrayList; // ArrayLists must be imported \n",
    "// OR\n",
    "import java.util.List; // you can import List since ArrayList is under that package"
   ]
  },
  {
   "attachments": {},
   "cell_type": "markdown",
   "metadata": {},
   "source": [
    "Variables can be set as reference to ArrayLists in this format:"
   ]
  },
  {
   "cell_type": "code",
   "execution_count": null,
   "metadata": {
    "vscode": {
     "languageId": "java"
    }
   },
   "outputs": [],
   "source": [
    "ArrayList<DataType> variableName; \n",
    "\n",
    "// Since ArrayLists are a data type themselves, but also hold datatype references, you must describe both\n"
   ]
  },
  {
   "attachments": {},
   "cell_type": "markdown",
   "metadata": {},
   "source": [
    "Instantiating an ArrayList:"
   ]
  },
  {
   "cell_type": "code",
   "execution_count": null,
   "metadata": {
    "vscode": {
     "languageId": "java"
    }
   },
   "outputs": [],
   "source": [
    "new ArrayList<DataType>();  // parenthesis must be included since we are calling the constructor method of the ArrayList class"
   ]
  },
  {
   "attachments": {},
   "cell_type": "markdown",
   "metadata": {},
   "source": [
    "The DataType that ArrayLists can hold must be a **non-primitive** data type\n",
    "\n",
    "One workaround for this is to store primitive types in **Wrapper Classes**\n",
    "\n",
    "<br>\n",
    "\n",
    "Wrapper classes:\n",
    "        --> store primitive types as objects\n",
    "\n",
    "| Primitive | Wrapper Class | \n",
    "| --------- | ------------- |\n",
    "| boolean | Boolean | \n",
    "| char | Character | \n",
    "| double | Double |\n",
    "| int | Integer |\n",
    "\n",
    "<br> \n",
    "\n"
   ]
  },
  {
   "cell_type": "code",
   "execution_count": null,
   "metadata": {
    "vscode": {
     "languageId": "java"
    }
   },
   "outputs": [],
   "source": [
    "// Putting it all together\n",
    "\n",
    "import java.util.ArrayList;\n",
    "\n",
    "public class Initializer { \n",
    "    \n",
    "    public static void main(String[] args) {\n",
    "\n",
    "        ArrayList<Integer> a1 = new ArrayList<Integer>(); // assigns int values (in wrapper class) --> empty array\n",
    "        ArrayList<String> a2 = new ArrayList<String>(5); // assigns string values --> stores 5 elements\n",
    "        ArrayList<Car> a3 = new ArrayList<Car>(5); // stores other classes as well\n",
    "    }\n",
    "\n",
    "}"
   ]
  }
 ],
 "metadata": {
  "language_info": {
   "name": "python"
  },
  "orig_nbformat": 4
 },
 "nbformat": 4,
 "nbformat_minor": 2
}
