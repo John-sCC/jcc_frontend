{
 "cells": [
  {
   "cell_type": "markdown",
   "metadata": {},
   "source": [
    "---\n",
    "title: SASS Intro \n",
    "description: Do you like making your frontend look nice? Consider using SASS 👍\n",
    "toc: True\n",
    "layout: post\n",
    "---"
   ]
  },
  {
   "cell_type": "markdown",
   "metadata": {},
   "source": [
    "## What Is SASS\n",
    "\n",
    "![image](https://github.com/John-sCC/jcc_frontend/assets/82348259/25f52d4d-8a93-4117-9fbf-f054603ee65a)\n",
    "\n",
    "- SASS stands for Syntactically Awesome Style Sheets and it's a preprocessing language that gets converted into CSS\n",
    "- A preprocessor takes an input from a user and converts its syntax to that of another programming language which is then used as an input for another program. So when SASS is being ran it actually gets converted to CSS which is then used by the browser."
   ]
  },
  {
   "cell_type": "markdown",
   "metadata": {},
   "source": [
    "## Basic Sass Lesson\n",
    "\n",
    "### General Info\n",
    "\n",
    "Sass uses a similar syntax to CSS, but with some key additions. Here's a breakdown:\n",
    "- Indentation Matters! Unlike CSS, indentation defines nesting in Sass. This keeps your code organized and visually represents the hierarchy of styles.\n",
    "- Comments: Comments work just like CSS (``/* comment here */``).\n",
    "- Variables: Define variables with ``$variable-name: value;``. Use them anywhere you'd use a value in CSS, like ``color: $primary-color;``. This promotes consistency and makes updates easier.\n",
    "\n",
    "CSS vs. Sass"
   ]
  },
  {
   "cell_type": "code",
   "execution_count": null,
   "metadata": {
    "vscode": {
     "languageId": "plaintext"
    }
   },
   "outputs": [],
   "source": [
    "/* CSS */\n",
    ".heading {\n",
    "  color: blue;\n",
    "  font-size: 20px;\n",
    "}\n",
    "\n",
    ".button {\n",
    "  color: blue;\n",
    "  background-color: lightblue;\n",
    "  padding: 10px;\n",
    "}"
   ]
  },
  {
   "cell_type": "code",
   "execution_count": null,
   "metadata": {
    "vscode": {
     "languageId": "plaintext"
    }
   },
   "outputs": [],
   "source": [
    "/* Sass */\n",
    "$primary-color: blue;\n",
    "$padding: 10px;\n",
    "\n",
    ".heading {\n",
    "  color: $primary-color;\n",
    "  font-size: 20px;\n",
    "}\n",
    "\n",
    ".button {\n",
    "  color: $primary-color;\n",
    "  background-color: lighten($primary-color, 20%);\n",
    "  padding: $padding;\n",
    "}\n"
   ]
  },
  {
   "cell_type": "markdown",
   "metadata": {},
   "source": [
    "### Mixins and Functions\n",
    "\n",
    "- Mixins: Define reusable groups of styles with ``@mixin mixin-name { ... }``. Use the mixin like a class with ``@include mixin-name;``. This promotes DRY (Don't Repeat Yourself) code.\n",
    "- Functions: Create custom functions with ``@function function-name($arguments) { ... return value; }``. Use them anywhere in your Sass code for calculations or logic.\n",
    "\n",
    "The mixin below creates a reusable button style, which reducing code duplication"
   ]
  },
  {
   "cell_type": "code",
   "execution_count": null,
   "metadata": {
    "vscode": {
     "languageId": "plaintext"
    }
   },
   "outputs": [],
   "source": [
    "@mixin button-style {\n",
    "  color: white;\n",
    "  background-color: $primary-color;\n",
    "  padding: $padding;\n",
    "}\n",
    "\n",
    ".primary-button {\n",
    "  @include button-style;\n",
    "}\n",
    "\n",
    ".secondary-button {\n",
    "  @include button-style;\n",
    "  background-color: lighten($primary-color, 50%);\n",
    "}\n"
   ]
  },
  {
   "cell_type": "markdown",
   "metadata": {},
   "source": [
    "The function below creates a text shadow effect with dynamic color and offset"
   ]
  },
  {
   "cell_type": "code",
   "execution_count": null,
   "metadata": {
    "vscode": {
     "languageId": "plaintext"
    }
   },
   "outputs": [],
   "source": [
    "@function text-shadow($color, $offset) {\n",
    "  return 0px $offset $color;\n",
    "}\n",
    "\n",
    ".heading {\n",
    "  text-shadow: text-shadow(black, 2px);\n",
    "}\n"
   ]
  },
  {
   "cell_type": "markdown",
   "metadata": {},
   "source": [
    "### Nesting and Parent Selectors\n",
    "\n",
    "- Deep Nesting: While nesting keeps code organized, excessive nesting can become cumbersome. Consider breaking down complex styles into separate mixins or classes.\n",
    "- Parent Selectors (&): Use the ``&`` symbol within a selector to reference the parent selector. This allows for dynamic manipulation of child elements within a nested structure.\n",
    "\n",
    "In the following snippet ``&__title`` and ``&`` a target child elements within the ``.card`` class using the parent selector."
   ]
  },
  {
   "cell_type": "code",
   "execution_count": null,
   "metadata": {
    "vscode": {
     "languageId": "plaintext"
    }
   },
   "outputs": [],
   "source": [
    ".card {\n",
    "  background-color: #eee;\n",
    "  padding: 1rem;\n",
    "  &__title {\n",
    "    font-weight: bold;\n",
    "    margin-bottom: 0.5rem;\n",
    "  }\n",
    "  & a {\n",
    "    color: $primary-color;\n",
    "    text-decoration: none;\n",
    "    &:hover {\n",
    "      text-decoration: underline;\n",
    "    }\n",
    "  }\n",
    "}"
   ]
  },
  {
   "cell_type": "markdown",
   "metadata": {},
   "source": [
    "### Placeholder Selectors\n",
    "\n",
    "- Use the ``%`` symbol to represent an unknown element within a selector. This is useful for creating generic styles that can be applied to various elements.\n",
    "\n",
    "The `%button-style` placeholder allows for reusable button styles applied to both `.primary-button` and `.secondary-button`."
   ]
  },
  {
   "cell_type": "code",
   "execution_count": null,
   "metadata": {
    "vscode": {
     "languageId": "plaintext"
    }
   },
   "outputs": [],
   "source": [
    "%button-style {\n",
    "  padding: 1rem;\n",
    "  border: none;\n",
    "  cursor: pointer;\n",
    "}\n",
    "\n",
    ".primary-button {\n",
    "  @extend %button-style;\n",
    "  background-color: $primary-color;\n",
    "  color: white;\n",
    "}\n",
    "\n",
    ".secondary-button {\n",
    "  @extend %button-style;\n",
    "  background-color: #ddd;\n",
    "  color: black;\n",
    "}\n"
   ]
  },
  {
   "cell_type": "markdown",
   "metadata": {},
   "source": [
    "### Conditional Logic and Loops\n",
    "\n",
    "- @if & @else: Control the flow of your styles based on conditions.\n",
    "- @for & @each: Loop through values or lists to create repetitive styles with ease.\n",
    "- Both of these function as regular loops and conditionals.\n",
    "\n",
    "The following conditional makes it so that smaller screens get a smaller header size."
   ]
  },
  {
   "cell_type": "code",
   "execution_count": null,
   "metadata": {
    "vscode": {
     "languageId": "plaintext"
    }
   },
   "outputs": [],
   "source": [
    "@if screen and (max-width: 768px) {\n",
    "  .heading {\n",
    "    font-size: 16px;\n",
    "  }\n",
    "}"
   ]
  },
  {
   "cell_type": "markdown",
   "metadata": {},
   "source": [
    "The following loop creates buttons with different background colors based on the values in the $colors list."
   ]
  },
  {
   "cell_type": "markdown",
   "metadata": {},
   "source": [
    "$colors: (red, green, blue);\n",
    "\n",
    "@each $color in $colors {\n",
    "  .button-#{$color} {\n",
    "    background-color: $color;\n",
    "  }\n",
    "}\n"
   ]
  },
  {
   "cell_type": "markdown",
   "metadata": {},
   "source": [
    "### Extend/Inheritance\n",
    "\n",
    "- @extend: Allows one selector to inherit styles from another.\n",
    "\n",
    "The following code will allow ``.primary-button`` to inherit styles from ``.button`` and add on to those properties"
   ]
  },
  {
   "cell_type": "code",
   "execution_count": null,
   "metadata": {
    "vscode": {
     "languageId": "plaintext"
    }
   },
   "outputs": [],
   "source": [
    ".button {\n",
    "  padding: $padding;\n",
    "  border: 1px solid #ccc;\n",
    "}\n",
    "\n",
    ".primary-button {\n",
    "  @extend .button;\n",
    "  background-color: $primary-color;\n",
    "  color: white;\n",
    "}\n"
   ]
  },
  {
   "cell_type": "markdown",
   "metadata": {},
   "source": [
    "### Default Variables\n",
    "\n",
    "- Sass allows you to define variables with a default value using the ``!default`` flag.\n",
    "- This is useful for creating reusable Sass libraries where users can customize variables before using them.\n",
    "\n",
    "In the following code ``$primary-color`` and ``$padding`` have default values. "
   ]
  },
  {
   "cell_type": "code",
   "execution_count": null,
   "metadata": {
    "vscode": {
     "languageId": "plaintext"
    }
   },
   "outputs": [],
   "source": [
    "$primary-color: blue !default;\n",
    "$padding: 10px !default;\n",
    "\n",
    ".heading {\n",
    "  color: $primary-color;\n",
    "  font-size: 20px;\n",
    "}\n",
    "\n",
    ".button {\n",
    "  color: $primary-color;\n",
    "  background-color: lighten($primary-color, 20%);\n",
    "  padding: $padding;\n",
    "}\n"
   ]
  },
  {
   "cell_type": "markdown",
   "metadata": {},
   "source": [
    "If a user importing this Sass file wants to override these defaults, they can use ``@use`` and this overrides the default values in the imported file"
   ]
  },
  {
   "cell_type": "markdown",
   "metadata": {},
   "source": [
    "## Advanced Sass Lesson\n",
    "\n",
    "### Partial Files and Importing\n",
    "\n",
    "- Partial Files (.scss): Break down your Sass styles into smaller, reusable files with the .scss extension. \n",
    "- @import Directive: Import partial Sass files into your main Sass file using the @import directive and this allows you to modularize your styles.\n",
    "\n",
    "In the following example, styles.scss imports the _buttons.scss partial file, keeping button styles organized and reusable."
   ]
  },
  {
   "cell_type": "code",
   "execution_count": null,
   "metadata": {
    "vscode": {
     "languageId": "plaintext"
    }
   },
   "outputs": [],
   "source": [
    "// _buttons.scss (Partial File)\n",
    ".button {\n",
    "  padding: 1rem;\n",
    "  border: none;\n",
    "  cursor: pointer;\n",
    "}\n",
    "\n",
    ".primary-button {\n",
    "  @extend .button;\n",
    "  background-color: $primary-color;\n",
    "  color: white;\n",
    "}\n",
    "\n",
    ".secondary-button {\n",
    "  @extend .button;\n",
    "  background-color: #ddd;\n",
    "  color: black;\n",
    "}\n",
    "\n",
    "// styles.scss (Main File)\n",
    "@import \"_buttons\"; // Import the partial file\n",
    "\n",
    ".card {\n",
    "  background-color: #eee;\n",
    "  padding: 1rem;\n",
    "  &__title {\n",
    "    font-weight: bold;\n",
    "    margin-bottom: 0.5rem;\n",
    "  }\n",
    "}\n"
   ]
  },
  {
   "cell_type": "markdown",
   "metadata": {},
   "source": [
    "### Responsive Design with Sass\n",
    "\n",
    "- Media Queries: Sass integrates with media queries for responsive design. And they can be used within your Sass code to target specific screen sizes and adjust styles accordingly.\n",
    "- Nested Media Queries: Sass allows for nested media queries, creating a more organized and maintainable structure for complex responsive layouts.\n",
    "\n",
    "The following example uses media queries to adjust styles for different screen sizes. Notice the ability to nest media queries for even more granular control."
   ]
  },
  {
   "cell_type": "code",
   "execution_count": null,
   "metadata": {
    "vscode": {
     "languageId": "plaintext"
    }
   },
   "outputs": [],
   "source": [
    "@media (max-width: 768px) {\n",
    "  .card {\n",
    "    width: 100%;\n",
    "  }\n",
    "  .card__title {\n",
    "    font-size: 1.2rem;\n",
    "  }\n",
    "}\n",
    "\n",
    "@media (min-width: 768px) and (max-width: 992px) {\n",
    "  .card {\n",
    "    width: 50%;\n",
    "  }\n",
    "}\n"
   ]
  },
  {
   "cell_type": "markdown",
   "metadata": {},
   "source": [
    "### Sass Maps\n",
    "\n",
    "- Maps: Sass maps provide a way to store key-value pairs like a dictionary. This can be extremely useful for organizing complex data like colors, fonts, or breakpoints used throughout your styles.\n",
    "- Accessing Map Values: Use bracket notation (`[]`) to access values within a map using their keys.\n",
    "\n",
    "The following example defines a `$colors` map and uses `map-get` to access color values for buttons and hover effects."
   ]
  },
  {
   "cell_type": "code",
   "execution_count": null,
   "metadata": {
    "vscode": {
     "languageId": "plaintext"
    }
   },
   "outputs": [],
   "source": [
    "$colors: (\n",
    "  \"primary\": $primary-color,\n",
    "  \"secondary\": #ddd,\n",
    "  \"text\": black\n",
    ");\n",
    "\n",
    ".button {\n",
    "  color: map-get($colors, \"text\");\n",
    "  &:hover {\n",
    "    background-color: map-get($colors, \"primary\");\n",
    "  }\n",
    "}\n"
   ]
  }
 ],
 "metadata": {
  "language_info": {
   "name": "python"
  }
 },
 "nbformat": 4,
 "nbformat_minor": 2
}
