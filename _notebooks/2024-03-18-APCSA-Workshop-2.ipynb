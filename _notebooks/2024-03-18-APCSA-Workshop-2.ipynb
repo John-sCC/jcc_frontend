{
 "cells": [
  {
   "cell_type": "markdown",
   "metadata": {},
   "source": [
    "---\n",
    "toc: true\n",
    "comments: true\n",
    "layout: notebook\n",
    "title: Classes\n",
    "description: The difference in the application and use of Value and Reference types in Java.\n",
    "authors: Kevin Du\n",
    "courses: { compsci: {week: 1} }\n",
    "type: hacks\n",
    "---"
   ]
  },
  {
   "cell_type": "markdown",
   "metadata": {},
   "source": [
    "## Instantiation of Classes\n"
   ]
  },
  {
   "cell_type": "code",
   "execution_count": null,
   "metadata": {
    "vscode": {
     "languageId": "java"
    }
   },
   "outputs": [],
   "source": [
    "public class WordPair { \n",
    "    /** Constructs a WordPair object. */ \n",
    "    public WordPair(String first, String second) \n",
    "    { \n",
    "        /* implementation not shown */ \n",
    "    } \n",
    "    /** Returns the first string of this WordPair object. */ \n",
    "    public String getFirst() \n",
    "    { \n",
    "        /* implementation not shown */ \n",
    "    } /** Returns the second string of this WordPair object. */ \n",
    "    public String getSecond() \n",
    "    {\n",
    "        /* implementation not shown */ \n",
    "    } \n",
    "}\n",
    "public class WordPairList { \n",
    "    /** The list of word pairs, initialized by the constructor. */ \n",
    "    private ArrayList<WordPair> allPairs; \n",
    "    /** Constructs a WordPairList object as described in part (a). * Precondition: words.length >= 2 */ \n",
    "    public WordPairList(String[] words) \n",
    "    { \n",
    "        /* to be implemented in part (a) */ \n",
    "    } \n",
    "    /** Returns the number of matches as described in part (b). */ \n",
    "    public int numMatches() { \n",
    "        /* to be implemented in part (b) */\n",
    "    } \n",
    "}"
   ]
  },
  {
   "cell_type": "code",
   "execution_count": 2,
   "metadata": {
    "vscode": {
     "languageId": "java"
    }
   },
   "outputs": [
    {
     "name": "stdout",
     "output_type": "stream",
     "text": [
      "Here are the results for example 2 and 3\n",
      "0\n",
      "1\n",
      "2\n"
     ]
    }
   ],
   "source": [
    "public class WordPair {\n",
    "    private String First;\n",
    "    private String Second;\n",
    "    /** Constructs a WordPair object. */ \n",
    "    public WordPair(String first, String second) \n",
    "    { \n",
    "        this.First = first;\n",
    "        this.Second = second;\n",
    "    } \n",
    "    /** Returns the first string of this WordPair object. */ \n",
    "    public String getFirst() \n",
    "    { \n",
    "        return this.First;\n",
    "    } /** Returns the second string of this WordPair object. */ \n",
    "    public String getSecond() \n",
    "    {\n",
    "        return this.Second;\n",
    "    } \n",
    "}\n",
    "public class WordPairList { \n",
    "    /** The list of word pairs, initialized by the constructor. */ \n",
    "    private ArrayList<WordPair> allPairs; \n",
    "    /** Constructs a WordPairList object as described in part (a). * Precondition: words.length >= 2 */ \n",
    "    public WordPairList(String[] words) \n",
    "    { \n",
    "        this.allPairs = new ArrayList<WordPair>(); //Some people miss this for some reason. You need an array list so that way you can add more pairs needed in the future.\n",
    "        for (int i = 0; i<words.length;i++){ //Goes through each word\n",
    "            for(int j = i+1;j<words.length;j++){ //This is the nested for loop; The i+1 makes it so that j doesn't overlap itself, otherwise, it would think that it was pairing with itself; Many people miss this surprisingly\n",
    "                this.allPairs.add(new WordPair(words[i],words[j]));\n",
    "            }\n",
    "        }\n",
    "    } \n",
    "    /** Returns the number of matches as described in part (b). */ \n",
    "    public int numMatches() { \n",
    "        int result = 0;\n",
    "        for (WordPair wp:allPairs){ //this for iterates through each word pair in the allPairs arraylist\n",
    "            if(wp.getFirst() == wp.getSecond()){ //This makes sure that the words are equal to each other to create a valid pair.\n",
    "                result += 1; //This increments for every pair\n",
    "            }\n",
    "        }\n",
    "        return result;\n",
    "    } \n",
    "}\n",
    "\n",
    "//Main Function\n",
    "//Example 1:\n",
    "String[] wordNums = {\"one\", \"two\", \"three\"}; \n",
    "WordPairList exampleOne = new WordPairList(wordNums);\n",
    "//Example 2\n",
    "String[] phrase = {\"the\", \"more\", \"the\", \"merrier\"}; \n",
    "WordPairList exampleTwo = new WordPairList(phrase);\n",
    "//Example 3:\n",
    "String[] moreWords = {\"the\", \"red\", \"fox\", \"the\", \"red\"}; \n",
    "WordPairList exampleThree = new WordPairList(moreWords);\n",
    "System.out.println(\"Here are the results for example 2 and 3\");\n",
    "System.out.println(exampleOne.numMatches());\n",
    "System.out.println(exampleTwo.numMatches());\n",
    "System.out.println(exampleThree.numMatches());"
   ]
  },
  {
   "cell_type": "markdown",
   "metadata": {},
   "source": [
    "# Overloaded Constructor\n",
    "\n",
    "Below is an example of an overloaded constructor. It's identical to the code above, except now when creating a WordPairList object if we don't pass through any words, tester words will be given and used. "
   ]
  },
  {
   "cell_type": "code",
   "execution_count": 4,
   "metadata": {
    "vscode": {
     "languageId": "java"
    }
   },
   "outputs": [
    {
     "name": "stdout",
     "output_type": "stream",
     "text": [
      "Here are the results for the examples\n",
      "1\n",
      "1\n"
     ]
    }
   ],
   "source": [
    "public class WordPairList { \n",
    "    /** The list of word pairs, initialized by the constructor. */ \n",
    "    private ArrayList<WordPair> allPairs; \n",
    "    /** Constructs a WordPairList object as described in part (a). * Precondition: words.length >= 2 */ \n",
    "    public WordPairList(String[] words) \n",
    "    { \n",
    "        this.allPairs = new ArrayList<WordPair>(); \n",
    "        for (int i = 0; i<words.length;i++){ \n",
    "            for(int j = i+1;j<words.length;j++){ \n",
    "                this.allPairs.add(new WordPair(words[i],words[j]));\n",
    "            }\n",
    "        }\n",
    "    } \n",
    "\n",
    "    public WordPairList() \n",
    "    { \n",
    "        String[] testerWords = {\"test\", \"testing\", \"best\", \"test\", \"hello\"}; \n",
    "        this.allPairs = new ArrayList<WordPair>(); \n",
    "        for (int i = 0; i<testerWords.length;i++){ \n",
    "            for(int j = i+1;j<testerWords.length;j++){ \n",
    "                this.allPairs.add(new WordPair(testerWords[i],testerWords[j]));\n",
    "            }\n",
    "        }\n",
    "    } \n",
    "\n",
    "    /** Returns the number of matches as described in part (b). */ \n",
    "    public int numMatches() { \n",
    "        int result = 0;\n",
    "        for (WordPair wp:allPairs){ //this for iterates through each word pair in the allPairs arraylist\n",
    "            if(wp.getFirst() == wp.getSecond()){ //This makes sure that the words are equal to each other to create a valid pair.\n",
    "                result += 1; //This increments for every pair\n",
    "            }\n",
    "        }\n",
    "        return result;\n",
    "    } \n",
    "}\n",
    "\n",
    "String[] words = {\"the\", \"more\", \"the\", \"merrier\"}; \n",
    "WordPairList exampleOne = new WordPairList(words);\n",
    "WordPairList exampleTwo = new WordPairList();\n",
    "System.out.println(\"Here are the results for the examples\");\n",
    "System.out.println(exampleOne.numMatches());\n",
    "System.out.println(exampleTwo.numMatches());"
   ]
  },
  {
   "cell_type": "markdown",
   "metadata": {},
   "source": [
    "# Tips and Tricks\n",
    "\n",
    "1. Common Points:\n",
    "    - declared class header \n",
    "    - constructor\n",
    "    - private instances \n",
    "    - declare headers for class methods\n",
    "    - properly uses methods from given class\n",
    "    - methods returns the right thing based on logic\n",
    "2. Use meaningful variable names\n",
    "3. For inheritence questions, pay attention to whether the attribute is of the parent or child class\n",
    "4. Check your code with the examples provided\n",
    "5. Super() must be in the first line of your constructor\n",
    "6. Initialize your variables outside of the constructor and any method (to have the correct scope)\n",
    "7. Point distribution, very few given for functioning code, just ensure you have the basic requirements"
   ]
  },
  {
   "cell_type": "markdown",
   "metadata": {},
   "source": [
    "# Hacks:\n",
    "\n",
    "Complete this FRQ **AND** create an example of a real life application with that FRQ.\n",
    "\n",
    "## Prompt\n",
    "\n",
    "2. A multiplayer game called Token Pass has the following rules. Each player begins with a random number of tokens (at least 1, but no more than 10) that are placed on a linear game board. There is one position on the game board for each player. After the game board has been filled, a player is randomly chosen to begin the game. Each position on the board is numbered, starting with 0. The following rules apply for a player’s turn. ?? The tokens are collected and removed from the game board at that player's position. \n",
    "- The collected tokens are distributed one at a time, to each player, beginning with the next player in order of increasing position. \n",
    "- If there are still tokens to distribute after the player at the highest position gets a token, the next token will be distributed to the player at position 0. \n",
    "- The distribution of tokens continues until there are no more tokens to distribute. The Token Pass game board is represented by an array of integers. The indexes of the array represent the player positions on the game board, and the corresponding values in the array represent the number of tokens that each player has. The following example illustrates one player's turn.\n",
    "\n",
    "The Token Pass game is represented by the TokenPass class.\n",
    "public class TokenPass\n",
    "{\n",
    " private int[] board;\n",
    " private int currentPlayer;\n",
    " /** Creates the board array to be of size playerCount and fills it with\n",
    " * random integer values from 1 to 10, inclusive. Initializes currentPlayer to a\n",
    " * random integer value in the range between 0 and playerCount-1, inclusive.\n",
    " * @param playerCount the number of players\n",
    " */\n",
    " public TokenPass(int playerCount)\n",
    " { /* to be implemented in part (a) */ }\n",
    "\n",
    " /** Distributes the tokens from the current player's position one at a time to each player in\n",
    " * the game. Distribution begins with the next position and continues until all the tokens\n",
    " * have been distributed. If there are still tokens to distribute when the player at the\n",
    " * highest position is reached, the next token will be distributed to the player at position 0.\n",
    " * Precondition: the current player has at least one token.\n",
    " * Postcondition: the current player has not changed.\n",
    " */\n",
    " public void distributeCurrentPlayerTokens()\n",
    " { /* to be implemented in part (b) */ }\n",
    " // There may be instance variables, constructors, and methods that are not shown.\n",
    "}\n",
    "\n",
    "(a) Write the constructor for the TokenPass class. The parameter playerCount represents\n",
    "the number of players in the game. The constructor should create the board array to contain\n",
    "playerCount elements and fill the array with random numbers between 1 and 10, inclusive.\n",
    "The constructor should also initialize the instance variable currentPlayer to a random number\n",
    "between 0 and playerCount-1, inclusive.\n",
    " Complete the TokenPass constructor below.\n",
    " /** Creates the board array to be of size playerCount and fills it with\n",
    " * random integer values from 1 to 10, inclusive. Initializes currentPlayer to a\n",
    " * random integer value in the range between 0 and playerCount-1, inclusive.\n",
    " * @param playerCount the number of players\n",
    " */\n",
    " public TokenPass(int playerCount) \n",
    "\n",
    " (b) Write the distributeCurrentPlayerTokens method.\n",
    " The tokens are collected and removed from the game board at the current player's position. These tokens are\n",
    "distributed, one at a time, to each player, beginning with the next higher position, until there are no more\n",
    "tokens to distribute.\n",
    "Class information repeated from the beginning of the question\n",
    "public class TokenPass\n",
    "private int[] board\n",
    "private int currentPlayer\n",
    "public TokenPass(int playerCount)\n",
    "public void distributeCurrentPlayerTokens()\n",
    " Complete method distributeCurrentPlayerTokens below.\n",
    " /** Distributes the tokens from the current player's position one at a time to each player in\n",
    " * the game. Distribution begins with the next position and continues until all the tokens\n",
    " * have been distributed. If there are still tokens to distribute when the player at the\n",
    " * highest position is reached, the next token will be distributed to the player at position 0.\n",
    " * Precondition: the current player has at least one token.\n",
    " * Postcondition: the current player has not changed.\n",
    " */\n",
    " public void distributeCurrentPlayerTokens() \n",
    "**Write the complete Director class, including the zero-parameter constructor and any necessary instance variables and methods. Assume that the Color class has been imported.**"
   ]
  },
  {
   "cell_type": "code",
   "execution_count": null,
   "metadata": {
    "vscode": {
     "languageId": "java"
    }
   },
   "outputs": [],
   "source": [
    "// Use this to complete the FRQ for both (a) and (b). Point out specifically which parts are (a) and (b) and the features you have used (for example, if you used a nested for loop or an arraylist, point it out)"
   ]
  },
  {
   "cell_type": "code",
   "execution_count": null,
   "metadata": {
    "vscode": {
     "languageId": "java"
    }
   },
   "outputs": [],
   "source": [
    "// Use this to complete the Applications. Do not mix up the cells"
   ]
  }
 ],
 "metadata": {
  "kernelspec": {
   "display_name": "Java",
   "language": "java",
   "name": "java"
  },
  "language_info": {
   "codemirror_mode": "java",
   "file_extension": ".jshell",
   "mimetype": "text/x-java-source",
   "name": "Java",
   "pygments_lexer": "java",
   "version": "20.0.2+9"
  }
 },
 "nbformat": 4,
 "nbformat_minor": 2
}
