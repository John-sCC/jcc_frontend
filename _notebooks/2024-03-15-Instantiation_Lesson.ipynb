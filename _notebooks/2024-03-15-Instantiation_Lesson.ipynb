{
 "cells": [
  {
   "cell_type": "markdown",
   "metadata": {},
   "source": [
    "---\n",
    "title: Object Instantiation and Instances of Classes\n",
    "description: Lesson on object instantiation and instances of classes.\n",
    "toc: true\n",
    "layout: post\n",
    "---"
   ]
  },
  {
   "cell_type": "markdown",
   "metadata": {},
   "source": [
    "### Lesson Materials\n",
    "\n",
    "Our lesson uses backend code from [this repository](). If you want to follow along in this lesson, please git clone with the line below and run Main.java to use localhost:\n",
    "\n",
    "`git clone https://github.com/John-sCC/Roles_BE.git`\n",
    "\n",
    "The contents of this lesson are pretty important for projects!"
   ]
  },
  {
   "cell_type": "markdown",
   "metadata": {},
   "source": [
    "# 2.1: Instances of Classes\n",
    "- A class is a blueprint for creating objects with the same behavior and defined attributes.\n",
    "- An Object is a specific entity, made from a class, that you can manipulate in your programs.\n",
    "- Objects are instances of classes with variables used to name them.\n",
    "- Each object has behaviors and attributes that are defined by the class that was used to create it"
   ]
  }
 ],
 "metadata": {
  "language_info": {
   "name": "python"
  }
 },
 "nbformat": 4,
 "nbformat_minor": 2
}
