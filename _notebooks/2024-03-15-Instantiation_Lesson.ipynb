{
 "cells": [
  {
   "cell_type": "markdown",
   "metadata": {},
   "source": [
    "---\n",
    "title: Object Instantiation and Instances of Classes\n",
    "description: Lesson on object instantiation and instances of classes.\n",
    "toc: true\n",
    "layout: post\n",
    "---"
   ]
  },
  {
   "cell_type": "markdown",
   "metadata": {},
   "source": [
    "### Lesson Materials\n",
    "\n",
    "Our lesson uses backend code from [this repository](). If you want to follow along in this lesson, please git clone with the line below and run Main.java to use localhost:\n",
    "\n",
    "`git clone https://github.com/John-sCC/Roles_BE.git`\n",
    "\n",
    "The contents of this lesson are pretty important for projects!"
   ]
  }
 ],
 "metadata": {
  "language_info": {
   "name": "python"
  }
 },
 "nbformat": 4,
 "nbformat_minor": 2
}
