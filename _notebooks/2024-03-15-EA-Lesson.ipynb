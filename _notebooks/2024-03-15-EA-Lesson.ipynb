{
 "cells": [
  {
   "cell_type": "markdown",
   "metadata": {},
   "source": [
    "---\n",
    "title: Arrays Lesson with JCC\n",
    "description: Lesson on arrays given by JCC\n",
    "toc: true\n",
    "layout: post\n",
    "---"
   ]
  },
  {
   "cell_type": "markdown",
   "metadata": {},
   "source": [
    "# Overview\n",
    "\n",
    "## Vocabulary\n",
    "- An array is a data structure used to implement a list of primitive or object data\n",
    "- An element is a single value within the array\n",
    "- The index of an element is the position of the element in the array\n",
    "    - For Java, the first element is at index 0\n",
    "- The length of an array is the number of elements in the array\n",
    "    - <code>length</code> is a <code>public final</code> data member of an array\n",
    "        - Since <code>length</code> is <code>public</code>, we can access it in any class\n",
    "        - Since <code>length</code> is final, we cannot change an array's length after it has been created\n",
    "- In Java, the last element of an array list is at index <code>list.length - 1</code>\n",
    "- If there is a call to an index that is not existing you will get an <code>ArrayIndexOutOfBoundsException</code> error."
   ]
  },
  {
   "cell_type": "code",
   "execution_count": 1,
   "metadata": {
    "vscode": {
     "languageId": "java"
    }
   },
   "outputs": [],
   "source": [
    "// double Array\n",
    "double[] grades = {70.5, 89.2, 92.5, 99.9};\n",
    "\n",
    "// String Array\n",
    "String[] Corn =  {\"Popcorn\", \"Corn Dog\", \"Cornbread\"}"
   ]
  },
  {
   "cell_type": "code",
   "execution_count": 3,
   "metadata": {
    "vscode": {
     "languageId": "java"
    }
   },
   "outputs": [],
   "source": [
    "public static int findMiddle (String[] arr, String find) {\n",
    "    return  // a, b, c, d,or e\n",
    "}\n",
    "// a: arr[].indexOf(find);\n",
    "// b: arr.indexOf(find);\n",
    "// c: arr[arr.length/2 + 1].indexOf(find);\n",
    "// d: arr[arr.length].indexOf(find);\n",
    "// e: arr[arr.length/2].indexOf(find);"
   ]
  },
  {
   "cell_type": "code",
   "execution_count": 6,
   "metadata": {
    "vscode": {
     "languageId": "java"
    }
   },
   "outputs": [],
   "source": [
    "public static int mystery(int[] arr) {\n",
    "    return arr[1] + arr[3]/2;\n",
    "}\n",
    "\n",
    "int[] list = {3, 7, 2, 9, 8};\n",
    "int result = mystery(list);\n",
    "\n",
    "// What is stored after running this code?\n",
    "// a: 2.5\n",
    "// b: 4\n",
    "// c: 8\n",
    "// d: 11\n",
    "// e: 11.5"
   ]
  }
 ],
 "metadata": {
  "kernelspec": {
   "display_name": "Java",
   "language": "java",
   "name": "java"
  },
  "language_info": {
   "codemirror_mode": "java",
   "file_extension": ".jshell",
   "mimetype": "text/x-java-source",
   "name": "Java",
   "pygments_lexer": "java",
   "version": "20.0.2+9"
  }
 },
 "nbformat": 4,
 "nbformat_minor": 2
}
