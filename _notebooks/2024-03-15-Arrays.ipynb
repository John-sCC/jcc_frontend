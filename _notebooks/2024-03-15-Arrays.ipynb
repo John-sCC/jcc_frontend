{
 "cells": [
  {
   "cell_type": "markdown",
   "metadata": {},
   "source": [
    "---\n",
    "title: CORN group ( FRQ 1 - ArrayLists)\n",
    "description: Lesson with FRQ 2017 using COOOORN!\n",
    "toc: true\n",
    "layout: post\n",
    "---"
   ]
  },
  {
   "cell_type": "markdown",
   "metadata": {},
   "source": [
    "# 2017 FRQ #1\n",
    "\n",
    "[View FRQ here](https://apcentral.collegeboard.org/media/pdf/ap-computer-science-a-frq-2017.pdf)\n",
    "\n",
    "\n",
    "## Part A\n",
    "\n",
    "- This part importantly declares an array and references the '.add' function\n",
    "\n",
    "Remember the syntax:\n",
    "```Java \n",
    "// declare the array list\n",
    "[arrayName] = new ArrayList<Integer>();\n",
    "\n",
    "// add to the list\n",
    "[arrayName].add([position], [value])\n",
    "// ---OR---\n",
    "[arrayName].add([value])\n",
    "\n",
    "// get from the list at a position\n",
    "[arrayName].get([position]);\n",
    "\n",
    "// modify a list at a specific position\n",
    "[arrayName].set([position], [value]);\n",
    "\n",
    "// get the size of an array\n",
    "[arrayName].size();\n",
    "\n",
    "// not pertaining to arrays but still good to know\n",
    "// the .intValue() method is used to convert an object of a wrapper class for primitive types (such as Integer, Double, Float, etc.) into its corresponding primitive int value.\n",
    "Integer integerValue = new Integer(10); // Creating an Integer object with value 10\n",
    "int intValue = integerValue.intValue(); // Extracting the int value from the Integer object\n",
    "// This is needed because java arrayLists store wrapper objects for 'int' primitive values\n",
    "```"
   ]
  },
  {
   "cell_type": "code",
   "execution_count": null,
   "metadata": {
    "vscode": {
     "languageId": "java"
    }
   },
   "outputs": [],
   "source": [
    "public class Digits\n",
    "{\n",
    "    private ArrayList<Integer> digitList;\n",
    "\n",
    "    // Part (a)\n",
    "    public Digits(int num)\n",
    "    {\n",
    "        digitList = new ArrayList<Integer>();\n",
    "        if (num == 0)\n",
    "        {\n",
    "            digitList.add(new Integer(0));\n",
    "        }\n",
    "        while (num > 0)\n",
    "        {\n",
    "            digitList.add(0, new Integer(num % 10));\n",
    "            num /= 10;\n",
    "        }\n",
    "    }\n",
    "\n",
    "    // Part (b)\n",
    "    public boolean isStrictlyIncreasing()\n",
    "    {\n",
    "        for (int i = 0; i < digitList.size()-1; i++)\n",
    "        {\n",
    "            if (digitList.get(i).intValue() >= digitList.get(i+1).intValue())\n",
    "            {\n",
    "                return false;\n",
    "            }\n",
    "        }\n",
    "        return true;\n",
    "    } \n",
    "} "
   ]
  },
  {
   "cell_type": "markdown",
   "metadata": {},
   "source": [
    "# Common Mistakes\n",
    "\n",
    "1. Failure to use the `intValue()` method.\n",
    "   - This is important because Java by default stores data in arrayLists using wrapper classes liek `Interger`. In this case the wrapper class needs to be converted into a primitive `int` datatype to perform operations on it.\n",
    "\n",
    "2. Failure to use `num % 10` or `num /= 10`.\n",
    "   - These lines are meant to target the last digit to either add to the arrayList or to remove from the integer \n",
    "\n"
   ]
  }
 ],
 "metadata": {
  "kernelspec": {
   "display_name": "Java",
   "language": "java",
   "name": "java"
  },
  "language_info": {
   "codemirror_mode": "java",
   "file_extension": ".jshell",
   "mimetype": "text/x-java-source",
   "name": "Java",
   "pygments_lexer": "java",
   "version": "17.0.9+9-Ubuntu-120.04"
  }
 },
 "nbformat": 4,
 "nbformat_minor": 2
}
