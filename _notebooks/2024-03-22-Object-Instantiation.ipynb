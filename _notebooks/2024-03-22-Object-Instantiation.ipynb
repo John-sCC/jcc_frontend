{
 "cells": [
  {
   "cell_type": "markdown",
   "metadata": {},
   "source": [
    "---\n",
    "title: FRQ 2 - Instantiation of classes\n",
    "description: Lesson with FRQ \n",
    "toc: true\n",
    "layout: post\n",
    "---"
   ]
  },
  {
   "cell_type": "markdown",
   "metadata": {},
   "source": [
    "![houses](https://raw.githubusercontent.com/John-sCC/jcc_frontend/main/images/house-demo.png)\n",
    "- Objects are individual instances of classes with their own attributes\n",
    "\n",
    "![house](https://raw.githubusercontent.com/John-sCC/jcc_frontend/main/images/houseattributes.png)\n",
    "- Two variables refer to the same object\n",
    "- If the color of Jill's house is yellow, then Jack's house is yellow\n",
    "- No other objects are affected"
   ]
  },
  {
   "cell_type": "code",
   "execution_count": null,
   "metadata": {},
   "outputs": [],
   "source": []
  }
 ],
 "metadata": {
  "kernelspec": {
   "display_name": "Java",
   "language": "java",
   "name": "java"
  },
  "language_info": {
   "name": "java"
  }
 },
 "nbformat": 4,
 "nbformat_minor": 2
}
