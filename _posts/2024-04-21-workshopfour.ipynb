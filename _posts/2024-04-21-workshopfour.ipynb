{
 "cells": [
  {
   "attachments": {},
   "cell_type": "markdown",
   "metadata": {},
   "source": [
    "---\n",
    "title: Workshop 4 - Lesson on 2D Arrays and Traversing them \n",
    "description: Unit 8 of CB\n",
    "toc: True\n",
    "layout: post\n",
    "---"
   ]
  },
  {
   "attachments": {},
   "cell_type": "markdown",
   "metadata": {},
   "source": [
    "<h2>  8.1: Declaring + Initializing 2D Arrays; Determining their  </h2>\n",
    "\n",
    "> Review: \n",
    "Arrays are a collection (list) of elements (primitive or object reference type data)  \n",
    "\n",
    "So, a 2-Dimensional array is an array where the elements within that array are other arrays \n",
    "\n",
    "2D arrays can be better at storing certain types of information \n",
    "\n",
    "* Especially if the data represents a space, with rows and columns\n",
    "\n",
    "\n",
    "Seating chart: \n",
    "| . | Row 1 | Row 2 | Row 3 | \n",
    "| - | - | - | - |\n",
    "| Column 1 | Abby | Ben | Clara | Danny | \n",
    "| Column 2 | Ethan | Frank | Gabriel | Holly | \n",
    "| Column 3 | Isabelle | John | Kim | Leo | \n",
    "\n",
    "* Or if the data needs to be classified under categories "
   ]
  }
 ],
 "metadata": {
  "language_info": {
   "name": "python"
  },
  "orig_nbformat": 4
 },
 "nbformat": 4,
 "nbformat_minor": 2
}
